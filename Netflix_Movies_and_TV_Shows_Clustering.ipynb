{
  "nbformat": 4,
  "nbformat_minor": 0,
  "metadata": {
    "colab": {
      "provenance": [],
      "collapsed_sections": [
        "KThnDuzcKDq7",
        "n7tkUkcLNNgN",
        "dRx-kF-ENRfb",
        "mE70EYLXNmWD",
        "RlvU9iHCUdy8"
      ],
      "mount_file_id": "1Dz0nnrowafljhT1-h4kD1db6Q1TIcMQv",
      "authorship_tag": "ABX9TyPjwTaRDvH4TT1pNkqFWcdY",
      "include_colab_link": true
    },
    "kernelspec": {
      "name": "python3",
      "display_name": "Python 3"
    },
    "language_info": {
      "name": "python"
    }
  },
  "cells": [
    {
      "cell_type": "markdown",
      "metadata": {
        "id": "view-in-github",
        "colab_type": "text"
      },
      "source": [
        "<a href=\"https://colab.research.google.com/github/Sid-9823/Netflix-Movies-and-TV-Shows-Clustering/blob/main/Netflix_Movies_and_TV_Shows_Clustering.ipynb\" target=\"_parent\"><img src=\"https://colab.research.google.com/assets/colab-badge.svg\" alt=\"Open In Colab\"/></a>"
      ]
    },
    {
      "cell_type": "markdown",
      "source": [
        "#  <u>**Project Title : Netflix Movies and TV Shows Clustering**</u>\n",
        "#####**Project Type** - Unsupervised\n",
        "\n",
        "#####**Contribution** - Individual\n",
        "\n",
        "#####**Individual name** - Siddhant Pal\n",
        "\n",
        "#####**Cohort** - Berlin"
      ],
      "metadata": {
        "id": "KThnDuzcKDq7"
      }
    },
    {
      "cell_type": "markdown",
      "source": [
        "![netflix-logo.webp](data:image/webp;base64,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)"
      ],
      "metadata": {
        "id": "EnjgOEIXNHrE"
      }
    },
    {
      "cell_type": "markdown",
      "source": [
        "#**Project Summary**"
      ],
      "metadata": {
        "id": "n7tkUkcLNNgN"
      }
    },
    {
      "cell_type": "markdown",
      "source": [],
      "metadata": {
        "id": "W2SsTqWSV09j"
      }
    },
    {
      "cell_type": "markdown",
      "source": [
        "#**GitHub Link**"
      ],
      "metadata": {
        "id": "dRx-kF-ENRfb"
      }
    },
    {
      "cell_type": "markdown",
      "source": [
        "https://github.com/Sid-9823/Netflix-Movies-and-TV-Shows-Clustering.git"
      ],
      "metadata": {
        "id": "bepbFObyNjSD"
      }
    },
    {
      "cell_type": "markdown",
      "source": [
        "#**Problem statement**"
      ],
      "metadata": {
        "id": "mE70EYLXNmWD"
      }
    },
    {
      "cell_type": "markdown",
      "source": [
        "###**BUSINESS PROBLEM OVERVIEW**\n",
        "\n",
        "**This dataset contains TV series and films that are currently accessible on Netflix as of 2019. The data was gathered through Flixable, a third-party Netflix search engine.**\n",
        "\n",
        "**In 2018, they published an intriguing analysis revealing that the amount of TV series available on Netflix has almost tripled since 2010. Since 2010, the number of films on the streaming service has declined by almost 2,000 titles, while the number of TV episodes has almost tripled. It will be fascinating to see what additional insights can be extracted from the same information.**\n",
        "\n",
        "**By matching text-based characteristics, we will cluster comparable material.**\n"
      ],
      "metadata": {
        "id": "UXuFDuJ4NqAW"
      }
    },
    {
      "cell_type": "markdown",
      "source": [
        "### **Data Description**\n",
        "\n",
        "**The dataset contains TV series and movies information such as show_id, type, title, director, cast, country, date_added, release_year, rating, duration, listed_in and description.**\n",
        "\n",
        "**Feature's Information :**\n",
        "* ***show_id*** : *Unique ID for every Movie / Tv Show.*\n",
        "\n",
        "* ***type*** : *Identifier - A Movie or TV Show.*\n",
        "* ***title*** : *Title of the movie / show.*\n",
        "* ***Director*** : *Director of the show*\n",
        "* ***cast*** : *Actors involved.*\n",
        "* ***Country*** : *Country of production.*\n",
        "* ***date_added*** : *Date it was added on Netflix.*\n",
        "* ***release_year*** : *Actual release year of the show.*\n",
        "* ***rating*** : *TV rating of the show.*\n",
        "* ***duration*** : *Total duration in minutes or number of seasons.*\n",
        "* ***listed_in*** : *Genre.*\n",
        "* ***Description*** : *The summary description.*"
      ],
      "metadata": {
        "id": "C_JMxyDXQdGT"
      }
    },
    {
      "cell_type": "markdown",
      "source": [
        "#**Importing necessary libraries**"
      ],
      "metadata": {
        "id": "RlvU9iHCUdy8"
      }
    },
    {
      "cell_type": "code",
      "source": [
        "# Importing Numpy & Pandas for data processing & data wrangling.\n",
        "\n",
        "import numpy as np\n",
        "import pandas as pd\n",
        "\n",
        "# Importing tools for visualization.\n",
        "\n",
        "import matplotlib.pyplot as plt\n",
        "import seaborn as sns\n",
        "import missingno as msno\n",
        "\n",
        "# Importing libraries for Hypothesis testing.\n",
        "\n",
        "from scipy.stats import uniform\n",
        "from scipy.stats import norm\n",
        "from scipy.stats import chi2\n",
        "from scipy.stats import t\n",
        "from scipy.stats import f\n",
        "from scipy.stats import ttest_ind\n",
        "import scipy.stats as stats\n",
        "\n",
        "# Word Cloud library.\n",
        "\n",
        "from wordcloud import WordCloud, STOPWORDS\n",
        "\n",
        "# Libraries used for textual data preprocessing.\n",
        "\n",
        "import string\n",
        "string.punctuation\n",
        "import nltk\n",
        "from nltk.corpus import stopwords\n",
        "nltk.download('stopwords')\n",
        "from nltk.stem.snowball import SnowballStemmer\n",
        "from scipy.stats import ttest_ind\n",
        "from sklearn.feature_extraction.text import CountVectorizer\n",
        "from sklearn.feature_extraction.text import TfidfVectorizer\n",
        "from sklearn.decomposition import PCA\n",
        "\n",
        "# Libraries used for Clustering.\n",
        "\n",
        "from sklearn.cluster import KMeans\n",
        "from sklearn.metrics import silhouette_score\n",
        "from sklearn.cluster import AgglomerativeClustering\n",
        "import scipy.cluster.hierarchy as shc\n",
        "\n",
        "# Libraries used for building recommendation system.\n",
        "\n",
        "from sklearn.feature_extraction.text import TfidfVectorizer\n",
        "from sklearn.metrics.pairwise import cosine_similarity"
      ],
      "metadata": {
        "colab": {
          "base_uri": "https://localhost:8080/"
        },
        "id": "UB0BlotSUe-8",
        "outputId": "2705972b-d9de-4ea7-d77b-b8861c88069a"
      },
      "execution_count": 79,
      "outputs": [
        {
          "output_type": "stream",
          "name": "stderr",
          "text": [
            "[nltk_data] Downloading package stopwords to /root/nltk_data...\n",
            "[nltk_data]   Package stopwords is already up-to-date!\n"
          ]
        }
      ]
    },
    {
      "cell_type": "markdown",
      "source": [
        "# **Data collection and analysis**"
      ],
      "metadata": {
        "id": "fAA_ooRwXDbL"
      }
    },
    {
      "cell_type": "markdown",
      "source": [
        "##**Data Loading and Basic Analysis**"
      ],
      "metadata": {
        "id": "wulqCW1iXEhk"
      }
    },
    {
      "cell_type": "code",
      "source": [
        "# Loading the data from csv file to a pandas dataframe.\n",
        "\n",
        "df = pd.read_csv('/content/drive/MyDrive/Colab Notebooks/NETFLIX MOVIES AND TV SHOWS CLUSTERING.csv')"
      ],
      "metadata": {
        "id": "YKiiEN5I0SXT"
      },
      "execution_count": 155,
      "outputs": []
    },
    {
      "cell_type": "code",
      "source": [
        "# Printing first 5 rows.\n",
        "\n",
        "df.head()"
      ],
      "metadata": {
        "colab": {
          "base_uri": "https://localhost:8080/",
          "height": 0
        },
        "id": "EuYo6w2259au",
        "outputId": "32ee99fa-fd10-4765-c43d-5eff4fd97b4c"
      },
      "execution_count": 156,
      "outputs": [
        {
          "output_type": "execute_result",
          "data": {
            "text/plain": [
              "  show_id     type  title           director  \\\n",
              "0      s1  TV Show     3%                NaN   \n",
              "1      s2    Movie   7:19  Jorge Michel Grau   \n",
              "2      s3    Movie  23:59       Gilbert Chan   \n",
              "3      s4    Movie      9        Shane Acker   \n",
              "4      s5    Movie     21     Robert Luketic   \n",
              "\n",
              "                                                cast        country  \\\n",
              "0  João Miguel, Bianca Comparato, Michel Gomes, R...         Brazil   \n",
              "1  Demián Bichir, Héctor Bonilla, Oscar Serrano, ...         Mexico   \n",
              "2  Tedd Chan, Stella Chung, Henley Hii, Lawrence ...      Singapore   \n",
              "3  Elijah Wood, John C. Reilly, Jennifer Connelly...  United States   \n",
              "4  Jim Sturgess, Kevin Spacey, Kate Bosworth, Aar...  United States   \n",
              "\n",
              "          date_added  release_year rating   duration  \\\n",
              "0    August 14, 2020          2020  TV-MA  4 Seasons   \n",
              "1  December 23, 2016          2016  TV-MA     93 min   \n",
              "2  December 20, 2018          2011      R     78 min   \n",
              "3  November 16, 2017          2009  PG-13     80 min   \n",
              "4    January 1, 2020          2008  PG-13    123 min   \n",
              "\n",
              "                                           listed_in  \\\n",
              "0  International TV Shows, TV Dramas, TV Sci-Fi &...   \n",
              "1                       Dramas, International Movies   \n",
              "2                Horror Movies, International Movies   \n",
              "3  Action & Adventure, Independent Movies, Sci-Fi...   \n",
              "4                                             Dramas   \n",
              "\n",
              "                                         description  \n",
              "0  In a future where the elite inhabit an island ...  \n",
              "1  After a devastating earthquake hits Mexico Cit...  \n",
              "2  When an army recruit is found dead, his fellow...  \n",
              "3  In a postapocalyptic world, rag-doll robots hi...  \n",
              "4  A brilliant group of students become card-coun...  "
            ],
            "text/html": [
              "\n",
              "\n",
              "  <div id=\"df-d76fe308-3af4-4580-9eba-b9a90f95eb1b\">\n",
              "    <div class=\"colab-df-container\">\n",
              "      <div>\n",
              "<style scoped>\n",
              "    .dataframe tbody tr th:only-of-type {\n",
              "        vertical-align: middle;\n",
              "    }\n",
              "\n",
              "    .dataframe tbody tr th {\n",
              "        vertical-align: top;\n",
              "    }\n",
              "\n",
              "    .dataframe thead th {\n",
              "        text-align: right;\n",
              "    }\n",
              "</style>\n",
              "<table border=\"1\" class=\"dataframe\">\n",
              "  <thead>\n",
              "    <tr style=\"text-align: right;\">\n",
              "      <th></th>\n",
              "      <th>show_id</th>\n",
              "      <th>type</th>\n",
              "      <th>title</th>\n",
              "      <th>director</th>\n",
              "      <th>cast</th>\n",
              "      <th>country</th>\n",
              "      <th>date_added</th>\n",
              "      <th>release_year</th>\n",
              "      <th>rating</th>\n",
              "      <th>duration</th>\n",
              "      <th>listed_in</th>\n",
              "      <th>description</th>\n",
              "    </tr>\n",
              "  </thead>\n",
              "  <tbody>\n",
              "    <tr>\n",
              "      <th>0</th>\n",
              "      <td>s1</td>\n",
              "      <td>TV Show</td>\n",
              "      <td>3%</td>\n",
              "      <td>NaN</td>\n",
              "      <td>João Miguel, Bianca Comparato, Michel Gomes, R...</td>\n",
              "      <td>Brazil</td>\n",
              "      <td>August 14, 2020</td>\n",
              "      <td>2020</td>\n",
              "      <td>TV-MA</td>\n",
              "      <td>4 Seasons</td>\n",
              "      <td>International TV Shows, TV Dramas, TV Sci-Fi &amp;...</td>\n",
              "      <td>In a future where the elite inhabit an island ...</td>\n",
              "    </tr>\n",
              "    <tr>\n",
              "      <th>1</th>\n",
              "      <td>s2</td>\n",
              "      <td>Movie</td>\n",
              "      <td>7:19</td>\n",
              "      <td>Jorge Michel Grau</td>\n",
              "      <td>Demián Bichir, Héctor Bonilla, Oscar Serrano, ...</td>\n",
              "      <td>Mexico</td>\n",
              "      <td>December 23, 2016</td>\n",
              "      <td>2016</td>\n",
              "      <td>TV-MA</td>\n",
              "      <td>93 min</td>\n",
              "      <td>Dramas, International Movies</td>\n",
              "      <td>After a devastating earthquake hits Mexico Cit...</td>\n",
              "    </tr>\n",
              "    <tr>\n",
              "      <th>2</th>\n",
              "      <td>s3</td>\n",
              "      <td>Movie</td>\n",
              "      <td>23:59</td>\n",
              "      <td>Gilbert Chan</td>\n",
              "      <td>Tedd Chan, Stella Chung, Henley Hii, Lawrence ...</td>\n",
              "      <td>Singapore</td>\n",
              "      <td>December 20, 2018</td>\n",
              "      <td>2011</td>\n",
              "      <td>R</td>\n",
              "      <td>78 min</td>\n",
              "      <td>Horror Movies, International Movies</td>\n",
              "      <td>When an army recruit is found dead, his fellow...</td>\n",
              "    </tr>\n",
              "    <tr>\n",
              "      <th>3</th>\n",
              "      <td>s4</td>\n",
              "      <td>Movie</td>\n",
              "      <td>9</td>\n",
              "      <td>Shane Acker</td>\n",
              "      <td>Elijah Wood, John C. Reilly, Jennifer Connelly...</td>\n",
              "      <td>United States</td>\n",
              "      <td>November 16, 2017</td>\n",
              "      <td>2009</td>\n",
              "      <td>PG-13</td>\n",
              "      <td>80 min</td>\n",
              "      <td>Action &amp; Adventure, Independent Movies, Sci-Fi...</td>\n",
              "      <td>In a postapocalyptic world, rag-doll robots hi...</td>\n",
              "    </tr>\n",
              "    <tr>\n",
              "      <th>4</th>\n",
              "      <td>s5</td>\n",
              "      <td>Movie</td>\n",
              "      <td>21</td>\n",
              "      <td>Robert Luketic</td>\n",
              "      <td>Jim Sturgess, Kevin Spacey, Kate Bosworth, Aar...</td>\n",
              "      <td>United States</td>\n",
              "      <td>January 1, 2020</td>\n",
              "      <td>2008</td>\n",
              "      <td>PG-13</td>\n",
              "      <td>123 min</td>\n",
              "      <td>Dramas</td>\n",
              "      <td>A brilliant group of students become card-coun...</td>\n",
              "    </tr>\n",
              "  </tbody>\n",
              "</table>\n",
              "</div>\n",
              "      <button class=\"colab-df-convert\" onclick=\"convertToInteractive('df-d76fe308-3af4-4580-9eba-b9a90f95eb1b')\"\n",
              "              title=\"Convert this dataframe to an interactive table.\"\n",
              "              style=\"display:none;\">\n",
              "\n",
              "  <svg xmlns=\"http://www.w3.org/2000/svg\" height=\"24px\"viewBox=\"0 0 24 24\"\n",
              "       width=\"24px\">\n",
              "    <path d=\"M0 0h24v24H0V0z\" fill=\"none\"/>\n",
              "    <path d=\"M18.56 5.44l.94 2.06.94-2.06 2.06-.94-2.06-.94-.94-2.06-.94 2.06-2.06.94zm-11 1L8.5 8.5l.94-2.06 2.06-.94-2.06-.94L8.5 2.5l-.94 2.06-2.06.94zm10 10l.94 2.06.94-2.06 2.06-.94-2.06-.94-.94-2.06-.94 2.06-2.06.94z\"/><path d=\"M17.41 7.96l-1.37-1.37c-.4-.4-.92-.59-1.43-.59-.52 0-1.04.2-1.43.59L10.3 9.45l-7.72 7.72c-.78.78-.78 2.05 0 2.83L4 21.41c.39.39.9.59 1.41.59.51 0 1.02-.2 1.41-.59l7.78-7.78 2.81-2.81c.8-.78.8-2.07 0-2.86zM5.41 20L4 18.59l7.72-7.72 1.47 1.35L5.41 20z\"/>\n",
              "  </svg>\n",
              "      </button>\n",
              "\n",
              "\n",
              "\n",
              "    <div id=\"df-1da49d46-3902-445b-8c2a-0ab33e3e82e1\">\n",
              "      <button class=\"colab-df-quickchart\" onclick=\"quickchart('df-1da49d46-3902-445b-8c2a-0ab33e3e82e1')\"\n",
              "              title=\"Suggest charts.\"\n",
              "              style=\"display:none;\">\n",
              "\n",
              "<svg xmlns=\"http://www.w3.org/2000/svg\" height=\"24px\"viewBox=\"0 0 24 24\"\n",
              "     width=\"24px\">\n",
              "    <g>\n",
              "        <path d=\"M19 3H5c-1.1 0-2 .9-2 2v14c0 1.1.9 2 2 2h14c1.1 0 2-.9 2-2V5c0-1.1-.9-2-2-2zM9 17H7v-7h2v7zm4 0h-2V7h2v10zm4 0h-2v-4h2v4z\"/>\n",
              "    </g>\n",
              "</svg>\n",
              "      </button>\n",
              "    </div>\n",
              "\n",
              "<style>\n",
              "  .colab-df-quickchart {\n",
              "    background-color: #E8F0FE;\n",
              "    border: none;\n",
              "    border-radius: 50%;\n",
              "    cursor: pointer;\n",
              "    display: none;\n",
              "    fill: #1967D2;\n",
              "    height: 32px;\n",
              "    padding: 0 0 0 0;\n",
              "    width: 32px;\n",
              "  }\n",
              "\n",
              "  .colab-df-quickchart:hover {\n",
              "    background-color: #E2EBFA;\n",
              "    box-shadow: 0px 1px 2px rgba(60, 64, 67, 0.3), 0px 1px 3px 1px rgba(60, 64, 67, 0.15);\n",
              "    fill: #174EA6;\n",
              "  }\n",
              "\n",
              "  [theme=dark] .colab-df-quickchart {\n",
              "    background-color: #3B4455;\n",
              "    fill: #D2E3FC;\n",
              "  }\n",
              "\n",
              "  [theme=dark] .colab-df-quickchart:hover {\n",
              "    background-color: #434B5C;\n",
              "    box-shadow: 0px 1px 3px 1px rgba(0, 0, 0, 0.15);\n",
              "    filter: drop-shadow(0px 1px 2px rgba(0, 0, 0, 0.3));\n",
              "    fill: #FFFFFF;\n",
              "  }\n",
              "</style>\n",
              "\n",
              "    <script>\n",
              "      async function quickchart(key) {\n",
              "        const containerElement = document.querySelector('#' + key);\n",
              "        const charts = await google.colab.kernel.invokeFunction(\n",
              "            'suggestCharts', [key], {});\n",
              "      }\n",
              "    </script>\n",
              "\n",
              "      <script>\n",
              "\n",
              "function displayQuickchartButton(domScope) {\n",
              "  let quickchartButtonEl =\n",
              "    domScope.querySelector('#df-1da49d46-3902-445b-8c2a-0ab33e3e82e1 button.colab-df-quickchart');\n",
              "  quickchartButtonEl.style.display =\n",
              "    google.colab.kernel.accessAllowed ? 'block' : 'none';\n",
              "}\n",
              "\n",
              "        displayQuickchartButton(document);\n",
              "      </script>\n",
              "      <style>\n",
              "    .colab-df-container {\n",
              "      display:flex;\n",
              "      flex-wrap:wrap;\n",
              "      gap: 12px;\n",
              "    }\n",
              "\n",
              "    .colab-df-convert {\n",
              "      background-color: #E8F0FE;\n",
              "      border: none;\n",
              "      border-radius: 50%;\n",
              "      cursor: pointer;\n",
              "      display: none;\n",
              "      fill: #1967D2;\n",
              "      height: 32px;\n",
              "      padding: 0 0 0 0;\n",
              "      width: 32px;\n",
              "    }\n",
              "\n",
              "    .colab-df-convert:hover {\n",
              "      background-color: #E2EBFA;\n",
              "      box-shadow: 0px 1px 2px rgba(60, 64, 67, 0.3), 0px 1px 3px 1px rgba(60, 64, 67, 0.15);\n",
              "      fill: #174EA6;\n",
              "    }\n",
              "\n",
              "    [theme=dark] .colab-df-convert {\n",
              "      background-color: #3B4455;\n",
              "      fill: #D2E3FC;\n",
              "    }\n",
              "\n",
              "    [theme=dark] .colab-df-convert:hover {\n",
              "      background-color: #434B5C;\n",
              "      box-shadow: 0px 1px 3px 1px rgba(0, 0, 0, 0.15);\n",
              "      filter: drop-shadow(0px 1px 2px rgba(0, 0, 0, 0.3));\n",
              "      fill: #FFFFFF;\n",
              "    }\n",
              "  </style>\n",
              "\n",
              "      <script>\n",
              "        const buttonEl =\n",
              "          document.querySelector('#df-d76fe308-3af4-4580-9eba-b9a90f95eb1b button.colab-df-convert');\n",
              "        buttonEl.style.display =\n",
              "          google.colab.kernel.accessAllowed ? 'block' : 'none';\n",
              "\n",
              "        async function convertToInteractive(key) {\n",
              "          const element = document.querySelector('#df-d76fe308-3af4-4580-9eba-b9a90f95eb1b');\n",
              "          const dataTable =\n",
              "            await google.colab.kernel.invokeFunction('convertToInteractive',\n",
              "                                                     [key], {});\n",
              "          if (!dataTable) return;\n",
              "\n",
              "          const docLinkHtml = 'Like what you see? Visit the ' +\n",
              "            '<a target=\"_blank\" href=https://colab.research.google.com/notebooks/data_table.ipynb>data table notebook</a>'\n",
              "            + ' to learn more about interactive tables.';\n",
              "          element.innerHTML = '';\n",
              "          dataTable['output_type'] = 'display_data';\n",
              "          await google.colab.output.renderOutput(dataTable, element);\n",
              "          const docLink = document.createElement('div');\n",
              "          docLink.innerHTML = docLinkHtml;\n",
              "          element.appendChild(docLink);\n",
              "        }\n",
              "      </script>\n",
              "    </div>\n",
              "  </div>\n"
            ]
          },
          "metadata": {},
          "execution_count": 156
        }
      ]
    },
    {
      "cell_type": "code",
      "source": [
        " # Printing last 5 rows.\n",
        "\n",
        "df.tail()"
      ],
      "metadata": {
        "colab": {
          "base_uri": "https://localhost:8080/",
          "height": 0
        },
        "id": "2VqTSHAz6Dic",
        "outputId": "81be8035-98bb-45ab-81e0-23b729eebe59"
      },
      "execution_count": 157,
      "outputs": [
        {
          "output_type": "execute_result",
          "data": {
            "text/plain": [
              "     show_id     type                                    title     director  \\\n",
              "7782   s7783    Movie                                     Zozo  Josef Fares   \n",
              "7783   s7784    Movie                                   Zubaan  Mozez Singh   \n",
              "7784   s7785    Movie                        Zulu Man in Japan          NaN   \n",
              "7785   s7786  TV Show                    Zumbo's Just Desserts          NaN   \n",
              "7786   s7787    Movie  ZZ TOP: THAT LITTLE OL' BAND FROM TEXAS     Sam Dunn   \n",
              "\n",
              "                                                   cast  \\\n",
              "7782  Imad Creidi, Antoinette Turk, Elias Gergi, Car...   \n",
              "7783  Vicky Kaushal, Sarah-Jane Dias, Raaghav Chanan...   \n",
              "7784                                            Nasty C   \n",
              "7785                         Adriano Zumbo, Rachel Khoo   \n",
              "7786                                                NaN   \n",
              "\n",
              "                                                country          date_added  \\\n",
              "7782  Sweden, Czech Republic, United Kingdom, Denmar...    October 19, 2020   \n",
              "7783                                              India       March 2, 2019   \n",
              "7784                                                NaN  September 25, 2020   \n",
              "7785                                          Australia    October 31, 2020   \n",
              "7786              United Kingdom, Canada, United States       March 1, 2020   \n",
              "\n",
              "      release_year rating  duration  \\\n",
              "7782          2005  TV-MA    99 min   \n",
              "7783          2015  TV-14   111 min   \n",
              "7784          2019  TV-MA    44 min   \n",
              "7785          2019  TV-PG  1 Season   \n",
              "7786          2019  TV-MA    90 min   \n",
              "\n",
              "                                              listed_in  \\\n",
              "7782                       Dramas, International Movies   \n",
              "7783     Dramas, International Movies, Music & Musicals   \n",
              "7784  Documentaries, International Movies, Music & M...   \n",
              "7785                 International TV Shows, Reality TV   \n",
              "7786                    Documentaries, Music & Musicals   \n",
              "\n",
              "                                            description  \n",
              "7782  When Lebanon's Civil War deprives Zozo of his ...  \n",
              "7783  A scrappy but poor boy worms his way into a ty...  \n",
              "7784  In this documentary, South African rapper Nast...  \n",
              "7785  Dessert wizard Adriano Zumbo looks for the nex...  \n",
              "7786  This documentary delves into the mystique behi...  "
            ],
            "text/html": [
              "\n",
              "\n",
              "  <div id=\"df-8ba1061b-a26e-42eb-835c-0dcce58f1ddb\">\n",
              "    <div class=\"colab-df-container\">\n",
              "      <div>\n",
              "<style scoped>\n",
              "    .dataframe tbody tr th:only-of-type {\n",
              "        vertical-align: middle;\n",
              "    }\n",
              "\n",
              "    .dataframe tbody tr th {\n",
              "        vertical-align: top;\n",
              "    }\n",
              "\n",
              "    .dataframe thead th {\n",
              "        text-align: right;\n",
              "    }\n",
              "</style>\n",
              "<table border=\"1\" class=\"dataframe\">\n",
              "  <thead>\n",
              "    <tr style=\"text-align: right;\">\n",
              "      <th></th>\n",
              "      <th>show_id</th>\n",
              "      <th>type</th>\n",
              "      <th>title</th>\n",
              "      <th>director</th>\n",
              "      <th>cast</th>\n",
              "      <th>country</th>\n",
              "      <th>date_added</th>\n",
              "      <th>release_year</th>\n",
              "      <th>rating</th>\n",
              "      <th>duration</th>\n",
              "      <th>listed_in</th>\n",
              "      <th>description</th>\n",
              "    </tr>\n",
              "  </thead>\n",
              "  <tbody>\n",
              "    <tr>\n",
              "      <th>7782</th>\n",
              "      <td>s7783</td>\n",
              "      <td>Movie</td>\n",
              "      <td>Zozo</td>\n",
              "      <td>Josef Fares</td>\n",
              "      <td>Imad Creidi, Antoinette Turk, Elias Gergi, Car...</td>\n",
              "      <td>Sweden, Czech Republic, United Kingdom, Denmar...</td>\n",
              "      <td>October 19, 2020</td>\n",
              "      <td>2005</td>\n",
              "      <td>TV-MA</td>\n",
              "      <td>99 min</td>\n",
              "      <td>Dramas, International Movies</td>\n",
              "      <td>When Lebanon's Civil War deprives Zozo of his ...</td>\n",
              "    </tr>\n",
              "    <tr>\n",
              "      <th>7783</th>\n",
              "      <td>s7784</td>\n",
              "      <td>Movie</td>\n",
              "      <td>Zubaan</td>\n",
              "      <td>Mozez Singh</td>\n",
              "      <td>Vicky Kaushal, Sarah-Jane Dias, Raaghav Chanan...</td>\n",
              "      <td>India</td>\n",
              "      <td>March 2, 2019</td>\n",
              "      <td>2015</td>\n",
              "      <td>TV-14</td>\n",
              "      <td>111 min</td>\n",
              "      <td>Dramas, International Movies, Music &amp; Musicals</td>\n",
              "      <td>A scrappy but poor boy worms his way into a ty...</td>\n",
              "    </tr>\n",
              "    <tr>\n",
              "      <th>7784</th>\n",
              "      <td>s7785</td>\n",
              "      <td>Movie</td>\n",
              "      <td>Zulu Man in Japan</td>\n",
              "      <td>NaN</td>\n",
              "      <td>Nasty C</td>\n",
              "      <td>NaN</td>\n",
              "      <td>September 25, 2020</td>\n",
              "      <td>2019</td>\n",
              "      <td>TV-MA</td>\n",
              "      <td>44 min</td>\n",
              "      <td>Documentaries, International Movies, Music &amp; M...</td>\n",
              "      <td>In this documentary, South African rapper Nast...</td>\n",
              "    </tr>\n",
              "    <tr>\n",
              "      <th>7785</th>\n",
              "      <td>s7786</td>\n",
              "      <td>TV Show</td>\n",
              "      <td>Zumbo's Just Desserts</td>\n",
              "      <td>NaN</td>\n",
              "      <td>Adriano Zumbo, Rachel Khoo</td>\n",
              "      <td>Australia</td>\n",
              "      <td>October 31, 2020</td>\n",
              "      <td>2019</td>\n",
              "      <td>TV-PG</td>\n",
              "      <td>1 Season</td>\n",
              "      <td>International TV Shows, Reality TV</td>\n",
              "      <td>Dessert wizard Adriano Zumbo looks for the nex...</td>\n",
              "    </tr>\n",
              "    <tr>\n",
              "      <th>7786</th>\n",
              "      <td>s7787</td>\n",
              "      <td>Movie</td>\n",
              "      <td>ZZ TOP: THAT LITTLE OL' BAND FROM TEXAS</td>\n",
              "      <td>Sam Dunn</td>\n",
              "      <td>NaN</td>\n",
              "      <td>United Kingdom, Canada, United States</td>\n",
              "      <td>March 1, 2020</td>\n",
              "      <td>2019</td>\n",
              "      <td>TV-MA</td>\n",
              "      <td>90 min</td>\n",
              "      <td>Documentaries, Music &amp; Musicals</td>\n",
              "      <td>This documentary delves into the mystique behi...</td>\n",
              "    </tr>\n",
              "  </tbody>\n",
              "</table>\n",
              "</div>\n",
              "      <button class=\"colab-df-convert\" onclick=\"convertToInteractive('df-8ba1061b-a26e-42eb-835c-0dcce58f1ddb')\"\n",
              "              title=\"Convert this dataframe to an interactive table.\"\n",
              "              style=\"display:none;\">\n",
              "\n",
              "  <svg xmlns=\"http://www.w3.org/2000/svg\" height=\"24px\"viewBox=\"0 0 24 24\"\n",
              "       width=\"24px\">\n",
              "    <path d=\"M0 0h24v24H0V0z\" fill=\"none\"/>\n",
              "    <path d=\"M18.56 5.44l.94 2.06.94-2.06 2.06-.94-2.06-.94-.94-2.06-.94 2.06-2.06.94zm-11 1L8.5 8.5l.94-2.06 2.06-.94-2.06-.94L8.5 2.5l-.94 2.06-2.06.94zm10 10l.94 2.06.94-2.06 2.06-.94-2.06-.94-.94-2.06-.94 2.06-2.06.94z\"/><path d=\"M17.41 7.96l-1.37-1.37c-.4-.4-.92-.59-1.43-.59-.52 0-1.04.2-1.43.59L10.3 9.45l-7.72 7.72c-.78.78-.78 2.05 0 2.83L4 21.41c.39.39.9.59 1.41.59.51 0 1.02-.2 1.41-.59l7.78-7.78 2.81-2.81c.8-.78.8-2.07 0-2.86zM5.41 20L4 18.59l7.72-7.72 1.47 1.35L5.41 20z\"/>\n",
              "  </svg>\n",
              "      </button>\n",
              "\n",
              "\n",
              "\n",
              "    <div id=\"df-130ece2f-0a8f-451a-bfe9-f57b23909a2e\">\n",
              "      <button class=\"colab-df-quickchart\" onclick=\"quickchart('df-130ece2f-0a8f-451a-bfe9-f57b23909a2e')\"\n",
              "              title=\"Suggest charts.\"\n",
              "              style=\"display:none;\">\n",
              "\n",
              "<svg xmlns=\"http://www.w3.org/2000/svg\" height=\"24px\"viewBox=\"0 0 24 24\"\n",
              "     width=\"24px\">\n",
              "    <g>\n",
              "        <path d=\"M19 3H5c-1.1 0-2 .9-2 2v14c0 1.1.9 2 2 2h14c1.1 0 2-.9 2-2V5c0-1.1-.9-2-2-2zM9 17H7v-7h2v7zm4 0h-2V7h2v10zm4 0h-2v-4h2v4z\"/>\n",
              "    </g>\n",
              "</svg>\n",
              "      </button>\n",
              "    </div>\n",
              "\n",
              "<style>\n",
              "  .colab-df-quickchart {\n",
              "    background-color: #E8F0FE;\n",
              "    border: none;\n",
              "    border-radius: 50%;\n",
              "    cursor: pointer;\n",
              "    display: none;\n",
              "    fill: #1967D2;\n",
              "    height: 32px;\n",
              "    padding: 0 0 0 0;\n",
              "    width: 32px;\n",
              "  }\n",
              "\n",
              "  .colab-df-quickchart:hover {\n",
              "    background-color: #E2EBFA;\n",
              "    box-shadow: 0px 1px 2px rgba(60, 64, 67, 0.3), 0px 1px 3px 1px rgba(60, 64, 67, 0.15);\n",
              "    fill: #174EA6;\n",
              "  }\n",
              "\n",
              "  [theme=dark] .colab-df-quickchart {\n",
              "    background-color: #3B4455;\n",
              "    fill: #D2E3FC;\n",
              "  }\n",
              "\n",
              "  [theme=dark] .colab-df-quickchart:hover {\n",
              "    background-color: #434B5C;\n",
              "    box-shadow: 0px 1px 3px 1px rgba(0, 0, 0, 0.15);\n",
              "    filter: drop-shadow(0px 1px 2px rgba(0, 0, 0, 0.3));\n",
              "    fill: #FFFFFF;\n",
              "  }\n",
              "</style>\n",
              "\n",
              "    <script>\n",
              "      async function quickchart(key) {\n",
              "        const containerElement = document.querySelector('#' + key);\n",
              "        const charts = await google.colab.kernel.invokeFunction(\n",
              "            'suggestCharts', [key], {});\n",
              "      }\n",
              "    </script>\n",
              "\n",
              "      <script>\n",
              "\n",
              "function displayQuickchartButton(domScope) {\n",
              "  let quickchartButtonEl =\n",
              "    domScope.querySelector('#df-130ece2f-0a8f-451a-bfe9-f57b23909a2e button.colab-df-quickchart');\n",
              "  quickchartButtonEl.style.display =\n",
              "    google.colab.kernel.accessAllowed ? 'block' : 'none';\n",
              "}\n",
              "\n",
              "        displayQuickchartButton(document);\n",
              "      </script>\n",
              "      <style>\n",
              "    .colab-df-container {\n",
              "      display:flex;\n",
              "      flex-wrap:wrap;\n",
              "      gap: 12px;\n",
              "    }\n",
              "\n",
              "    .colab-df-convert {\n",
              "      background-color: #E8F0FE;\n",
              "      border: none;\n",
              "      border-radius: 50%;\n",
              "      cursor: pointer;\n",
              "      display: none;\n",
              "      fill: #1967D2;\n",
              "      height: 32px;\n",
              "      padding: 0 0 0 0;\n",
              "      width: 32px;\n",
              "    }\n",
              "\n",
              "    .colab-df-convert:hover {\n",
              "      background-color: #E2EBFA;\n",
              "      box-shadow: 0px 1px 2px rgba(60, 64, 67, 0.3), 0px 1px 3px 1px rgba(60, 64, 67, 0.15);\n",
              "      fill: #174EA6;\n",
              "    }\n",
              "\n",
              "    [theme=dark] .colab-df-convert {\n",
              "      background-color: #3B4455;\n",
              "      fill: #D2E3FC;\n",
              "    }\n",
              "\n",
              "    [theme=dark] .colab-df-convert:hover {\n",
              "      background-color: #434B5C;\n",
              "      box-shadow: 0px 1px 3px 1px rgba(0, 0, 0, 0.15);\n",
              "      filter: drop-shadow(0px 1px 2px rgba(0, 0, 0, 0.3));\n",
              "      fill: #FFFFFF;\n",
              "    }\n",
              "  </style>\n",
              "\n",
              "      <script>\n",
              "        const buttonEl =\n",
              "          document.querySelector('#df-8ba1061b-a26e-42eb-835c-0dcce58f1ddb button.colab-df-convert');\n",
              "        buttonEl.style.display =\n",
              "          google.colab.kernel.accessAllowed ? 'block' : 'none';\n",
              "\n",
              "        async function convertToInteractive(key) {\n",
              "          const element = document.querySelector('#df-8ba1061b-a26e-42eb-835c-0dcce58f1ddb');\n",
              "          const dataTable =\n",
              "            await google.colab.kernel.invokeFunction('convertToInteractive',\n",
              "                                                     [key], {});\n",
              "          if (!dataTable) return;\n",
              "\n",
              "          const docLinkHtml = 'Like what you see? Visit the ' +\n",
              "            '<a target=\"_blank\" href=https://colab.research.google.com/notebooks/data_table.ipynb>data table notebook</a>'\n",
              "            + ' to learn more about interactive tables.';\n",
              "          element.innerHTML = '';\n",
              "          dataTable['output_type'] = 'display_data';\n",
              "          await google.colab.output.renderOutput(dataTable, element);\n",
              "          const docLink = document.createElement('div');\n",
              "          docLink.innerHTML = docLinkHtml;\n",
              "          element.appendChild(docLink);\n",
              "        }\n",
              "      </script>\n",
              "    </div>\n",
              "  </div>\n"
            ]
          },
          "metadata": {},
          "execution_count": 157
        }
      ]
    },
    {
      "cell_type": "code",
      "source": [
        "# Checking the number of rows and columns in our dataset.\n",
        "\n",
        "df.shape"
      ],
      "metadata": {
        "colab": {
          "base_uri": "https://localhost:8080/"
        },
        "id": "63qL-nIY6GsE",
        "outputId": "cadc98c8-8828-4c25-9349-0c37dee0699b"
      },
      "execution_count": 158,
      "outputs": [
        {
          "output_type": "execute_result",
          "data": {
            "text/plain": [
              "(7787, 12)"
            ]
          },
          "metadata": {},
          "execution_count": 158
        }
      ]
    },
    {
      "cell_type": "code",
      "source": [
        "# Gathering information about our dataset such as null count values and data types involved.\n",
        "\n",
        "df.info()"
      ],
      "metadata": {
        "colab": {
          "base_uri": "https://localhost:8080/"
        },
        "id": "TTGs9V0Z6qi9",
        "outputId": "78c3f260-9681-4337-b1f8-0d41e7647260"
      },
      "execution_count": 159,
      "outputs": [
        {
          "output_type": "stream",
          "name": "stdout",
          "text": [
            "<class 'pandas.core.frame.DataFrame'>\n",
            "RangeIndex: 7787 entries, 0 to 7786\n",
            "Data columns (total 12 columns):\n",
            " #   Column        Non-Null Count  Dtype \n",
            "---  ------        --------------  ----- \n",
            " 0   show_id       7787 non-null   object\n",
            " 1   type          7787 non-null   object\n",
            " 2   title         7787 non-null   object\n",
            " 3   director      5398 non-null   object\n",
            " 4   cast          7069 non-null   object\n",
            " 5   country       7280 non-null   object\n",
            " 6   date_added    7777 non-null   object\n",
            " 7   release_year  7787 non-null   int64 \n",
            " 8   rating        7780 non-null   object\n",
            " 9   duration      7787 non-null   object\n",
            " 10  listed_in     7787 non-null   object\n",
            " 11  description   7787 non-null   object\n",
            "dtypes: int64(1), object(11)\n",
            "memory usage: 730.2+ KB\n"
          ]
        }
      ]
    },
    {
      "cell_type": "code",
      "source": [
        "# Printing number of unique values in our dataset.\n",
        "\n",
        "df.nunique()"
      ],
      "metadata": {
        "colab": {
          "base_uri": "https://localhost:8080/"
        },
        "id": "yfYXYgE1wzhv",
        "outputId": "20618874-97a3-4dfb-8956-645dfa03eb3b"
      },
      "execution_count": 160,
      "outputs": [
        {
          "output_type": "execute_result",
          "data": {
            "text/plain": [
              "show_id         7787\n",
              "type               2\n",
              "title           7787\n",
              "director        4049\n",
              "cast            6831\n",
              "country          681\n",
              "date_added      1565\n",
              "release_year      73\n",
              "rating            14\n",
              "duration         216\n",
              "listed_in        492\n",
              "description     7769\n",
              "dtype: int64"
            ]
          },
          "metadata": {},
          "execution_count": 160
        }
      ]
    },
    {
      "cell_type": "code",
      "execution_count": 161,
      "metadata": {
        "colab": {
          "base_uri": "https://localhost:8080/"
        },
        "id": "_R7CuMAlrlMA",
        "outputId": "2b6ec46c-9fd5-46b5-ad36-b7b5667cd800"
      },
      "outputs": [
        {
          "output_type": "execute_result",
          "data": {
            "text/plain": [
              "show_id            0\n",
              "type               0\n",
              "title              0\n",
              "director        2389\n",
              "cast             718\n",
              "country          507\n",
              "date_added        10\n",
              "release_year       0\n",
              "rating             7\n",
              "duration           0\n",
              "listed_in          0\n",
              "description        0\n",
              "dtype: int64"
            ]
          },
          "metadata": {},
          "execution_count": 161
        }
      ],
      "source": [
        "# Checking null values.\n",
        "\n",
        "df.isnull().sum()"
      ]
    },
    {
      "cell_type": "markdown",
      "metadata": {
        "id": "KvmvB2kasd7-"
      },
      "source": [
        "* ***As we can see there are missing values in director, cast, country, date_added and rating column in this dataframe.***"
      ]
    },
    {
      "cell_type": "markdown",
      "source": [
        "##**Data wrangling**"
      ],
      "metadata": {
        "id": "O0Kgedz_aNPV"
      }
    },
    {
      "cell_type": "code",
      "source": [
        "# Renaming our column's.\n",
        "\n",
        "df = df.rename(columns={'show_id':'si','type':'typ','title':'tit','director':'dtr','cast':'cst','country':'cnt',\n",
        "                        'date_added':'da','release_year':'ry','rating':'rtng','duration':'dur','listed_in':'li','description':'des'})"
      ],
      "metadata": {
        "id": "EN3cujR_aN80"
      },
      "execution_count": 162,
      "outputs": []
    },
    {
      "cell_type": "markdown",
      "source": [
        "* ***Changing column's names as per our convenience as it becomes easier working with small feature names.***"
      ],
      "metadata": {
        "id": "03oWkki1X4QY"
      }
    },
    {
      "cell_type": "code",
      "source": [
        "# Handling Null values.\n",
        "\n",
        "df['cst'].fillna(value = 'Unavailable',inplace = True)\n",
        "\n",
        "df['cnt'].fillna(value = df['cnt'].mode()[0],inplace = True)"
      ],
      "metadata": {
        "id": "eKkcsi2uXlp1"
      },
      "execution_count": 163,
      "outputs": []
    },
    {
      "cell_type": "markdown",
      "source": [
        "* ***In our 'Cast' column, we are filling our null cells with the 'Unavailable'.***\n",
        "\n",
        "* ***In 'Country' column, we are filling out null cells with the mode of the column.***"
      ],
      "metadata": {
        "id": "ryBW73oSeGBF"
      }
    },
    {
      "cell_type": "code",
      "source": [
        "# Dropping missing values.\n",
        "\n",
        "df.dropna(subset = ['rtng','da'],inplace = True)"
      ],
      "metadata": {
        "id": "6xlfCetRd9Yp"
      },
      "execution_count": 164,
      "outputs": []
    },
    {
      "cell_type": "markdown",
      "source": [
        "* ***Dropping missing values from 'rating' and 'date_added' column as there are very few null cells in these columns.***"
      ],
      "metadata": {
        "id": "yi5HnK9CgFA9"
      }
    },
    {
      "cell_type": "code",
      "source": [
        "# Dropping 'director' column.\n",
        "\n",
        "df.drop(['dtr'],inplace = True, axis = 1)"
      ],
      "metadata": {
        "id": "P4wZxr18f38t"
      },
      "execution_count": 165,
      "outputs": []
    },
    {
      "cell_type": "markdown",
      "source": [
        "* ***Dropping 'director' column as it's missing more than 30% values in it.***"
      ],
      "metadata": {
        "id": "BkaI2coHguLO"
      }
    },
    {
      "cell_type": "code",
      "source": [
        "# Checking for null values after handling them.\n",
        "\n",
        "df.isnull().sum()"
      ],
      "metadata": {
        "colab": {
          "base_uri": "https://localhost:8080/"
        },
        "id": "8JFxR33OIP9X",
        "outputId": "30ffbec4-b02f-4a2b-d0d0-9320cf63f268"
      },
      "execution_count": 166,
      "outputs": [
        {
          "output_type": "execute_result",
          "data": {
            "text/plain": [
              "si      0\n",
              "typ     0\n",
              "tit     0\n",
              "cst     0\n",
              "cnt     0\n",
              "da      0\n",
              "ry      0\n",
              "rtng    0\n",
              "dur     0\n",
              "li      0\n",
              "des     0\n",
              "dtype: int64"
            ]
          },
          "metadata": {},
          "execution_count": 166
        }
      ]
    },
    {
      "cell_type": "markdown",
      "source": [
        "* ***As we can see, there are no null values present in our dataset now.***"
      ],
      "metadata": {
        "id": "nDI3kbsZKpqG"
      }
    },
    {
      "cell_type": "markdown",
      "source": [
        "# **Exploratory Data Analysis and Visualization**"
      ],
      "metadata": {
        "id": "hyCPKuuSMT2P"
      }
    },
    {
      "cell_type": "markdown",
      "source": [
        "**What is EDA ?**\n",
        "\n",
        "***Exploratory Data Analysis can be considered as a process which is used to visualise data and it helps to uncover the underlying pattern and relations between the dependent and independent variable's which can be useful in decision making.***"
      ],
      "metadata": {
        "id": "4OrzEFyQMXOe"
      }
    },
    {
      "cell_type": "markdown",
      "source": [
        "**We are performing the Vizualization in  a structured way while following \"UBM\" Rule.**\n",
        "\n",
        "**U - Univariate Analysis,**\n",
        "\n",
        "**B - Bivariate Analysis (Numerical - Categorical, Numerical - Numerical, Categorical - Categorical)**\n",
        "\n",
        "**M - Multivariate Analysis**"
      ],
      "metadata": {
        "id": "7R6tcuAXMZXN"
      }
    },
    {
      "cell_type": "markdown",
      "source": [
        "##**Univariate Analysis**"
      ],
      "metadata": {
        "id": "CdAGxj7HMcMd"
      }
    },
    {
      "cell_type": "markdown",
      "source": [
        "***We can define a univariate analysis as the type of analysis in which single feature analysis is performed. This type of analysis is solely focused on the distribution and pattern of the datapoints in a dataset.***"
      ],
      "metadata": {
        "id": "H51r6wk4Meat"
      }
    },
    {
      "cell_type": "markdown",
      "source": [
        "###**Type**"
      ],
      "metadata": {
        "id": "ZPghBe9pM9fd"
      }
    },
    {
      "cell_type": "code",
      "source": [
        "# Plotting a countplot for this column.\n",
        "\n",
        "sns.set_style(style='white')\n",
        "plt.figure(figsize=(6,4))\n",
        "sns.countplot(x = df['typ'],palette='viridis')\n",
        "plt.xlabel('Type')\n",
        "plt.title('Number of TV Shows and Movies in our dataset',fontweight = 'bold')"
      ],
      "metadata": {
        "colab": {
          "base_uri": "https://localhost:8080/",
          "height": 427
        },
        "id": "3Kaj0YRoNG0q",
        "outputId": "3a5da966-7125-4c13-eef1-7702fa1d1136"
      },
      "execution_count": 167,
      "outputs": [
        {
          "output_type": "execute_result",
          "data": {
            "text/plain": [
              "Text(0.5, 1.0, 'Number of TV Shows and Movies in our dataset')"
            ]
          },
          "metadata": {},
          "execution_count": 167
        },
        {
          "output_type": "display_data",
          "data": {
            "text/plain": [
              "<Figure size 600x400 with 1 Axes>"
            ],
            "image/png": "[encoded data removed]"
          },
          "metadata": {}
        }
      ]
    },
    {
      "cell_type": "markdown",
      "source": [
        "* ***As we can see in the above countplot that there are more number of movies in our dataset as compared to TV shows.***"
      ],
      "metadata": {
        "id": "EynfzMMDiWr-"
      }
    },
    {
      "cell_type": "code",
      "source": [
        "# Number of entries in each category.\n",
        "\n",
        "df['typ'].value_counts()"
      ],
      "metadata": {
        "colab": {
          "base_uri": "https://localhost:8080/"
        },
        "id": "jQwTFs2zO1hN",
        "outputId": "0e929b0e-91c8-480b-c561-5a1419a773d0"
      },
      "execution_count": 168,
      "outputs": [
        {
          "output_type": "execute_result",
          "data": {
            "text/plain": [
              "Movie      5372\n",
              "TV Show    2398\n",
              "Name: typ, dtype: int64"
            ]
          },
          "metadata": {},
          "execution_count": 168
        }
      ]
    },
    {
      "cell_type": "markdown",
      "source": [
        "* ***There are 5372 movies and 2398 TV shows present in our dataset.***"
      ],
      "metadata": {
        "id": "VhVDkeMmjQeH"
      }
    },
    {
      "cell_type": "markdown",
      "source": [
        "###**Country**"
      ],
      "metadata": {
        "id": "Si-SgJYIjIIO"
      }
    },
    {
      "cell_type": "code",
      "source": [
        "# Creating separate two variables for TV Shows and Movies.\n",
        "\n",
        "mov = df[df['typ'] == 'Movie']\n",
        "\n",
        "tv =  df[df['typ'] == 'TV Show']"
      ],
      "metadata": {
        "id": "w6oCfjQgo3eI"
      },
      "execution_count": 169,
      "outputs": []
    },
    {
      "cell_type": "code",
      "source": [
        "# Plotting a barplot.\n",
        "\n",
        "plt.figure(figsize=(10,4))\n",
        "mov['cnt'].value_counts().head(10).plot(kind = 'bar',color = 'darkblue')\n",
        "plt.xlabel('Country')\n",
        "plt.title('Top 10 countries with highest number of movies on the platform',fontweight = 'bold')"
      ],
      "metadata": {
        "colab": {
          "base_uri": "https://localhost:8080/",
          "height": 0
        },
        "id": "HfGuEjLyi8YK",
        "outputId": "8625644e-002a-4182-c300-a2b185228e11"
      },
      "execution_count": 170,
      "outputs": [
        {
          "output_type": "execute_result",
          "data": {
            "text/plain": [
              "Text(0.5, 1.0, 'Top 10 countries with highest number of movies on the platform')"
            ]
          },
          "metadata": {},
          "execution_count": 170
        },
        {
          "output_type": "display_data",
          "data": {
            "text/plain": [
              "<Figure size 1000x400 with 1 Axes>"
            ],
            "image/png": "[encoded data removed]"
          },
          "metadata": {}
        }
      ]
    },
    {
      "cell_type": "markdown",
      "source": [
        "* ***United States has the highest number of Movies on Netflix followed by India, United Kingdom, Canada and several other countries.***"
      ],
      "metadata": {
        "id": "otwmH_2KqMvP"
      }
    },
    {
      "cell_type": "code",
      "source": [
        "# Printing top 10 countries with highest number of movies.\n",
        "\n",
        "mov['cnt'].value_counts().head(10)"
      ],
      "metadata": {
        "colab": {
          "base_uri": "https://localhost:8080/"
        },
        "id": "aVwUetGfqU3Y",
        "outputId": "a92ad3db-9c27-4f96-dddb-6302bd20454d"
      },
      "execution_count": 171,
      "outputs": [
        {
          "output_type": "execute_result",
          "data": {
            "text/plain": [
              "United States     2076\n",
              "India              852\n",
              "United Kingdom     193\n",
              "Canada             118\n",
              "Spain               89\n",
              "Egypt               89\n",
              "Turkey              73\n",
              "Philippines         70\n",
              "France              69\n",
              "Japan               69\n",
              "Name: cnt, dtype: int64"
            ]
          },
          "metadata": {},
          "execution_count": 171
        }
      ]
    },
    {
      "cell_type": "markdown",
      "source": [
        "* ***There are 2076 movie title's of United States on netflix followed by India with 852 titles along with several other countries.***"
      ],
      "metadata": {
        "id": "iAKLvewlqwW_"
      }
    },
    {
      "cell_type": "code",
      "source": [
        "# Plotting a barplot.\n",
        "\n",
        "plt.figure(figsize=(10,4))\n",
        "tv['cnt'].value_counts().head(10).plot(kind = 'bar',color = 'darkblue')\n",
        "plt.xlabel('Country')\n",
        "plt.title('Top 10 countries with highest number of TV shows on the platform',fontweight = 'bold')"
      ],
      "metadata": {
        "colab": {
          "base_uri": "https://localhost:8080/",
          "height": 0
        },
        "id": "qpJUKabapOCe",
        "outputId": "b9e2e3e2-7b7f-48c3-bd1c-3f9be14538fe"
      },
      "execution_count": 172,
      "outputs": [
        {
          "output_type": "execute_result",
          "data": {
            "text/plain": [
              "Text(0.5, 1.0, 'Top 10 countries with highest number of TV shows on the platform')"
            ]
          },
          "metadata": {},
          "execution_count": 172
        },
        {
          "output_type": "display_data",
          "data": {
            "text/plain": [
              "<Figure size 1000x400 with 1 Axes>"
            ],
            "image/png": "[encoded data removed]"
          },
          "metadata": {}
        }
      ]
    },
    {
      "cell_type": "markdown",
      "source": [
        "* ***United States still has the highest number of TV shows on Netflix followed by United Kingdom, Japan and several other countries.***"
      ],
      "metadata": {
        "id": "BJeQi5WprdCQ"
      }
    },
    {
      "cell_type": "code",
      "source": [
        "# Printing top 10 countries.\n",
        "\n",
        "tv['cnt'].value_counts().head(10)"
      ],
      "metadata": {
        "colab": {
          "base_uri": "https://localhost:8080/"
        },
        "id": "1MrqnU2LpSsO",
        "outputId": "ef745575-dad3-425d-d7b7-f92b56b6da28"
      },
      "execution_count": 173,
      "outputs": [
        {
          "output_type": "execute_result",
          "data": {
            "text/plain": [
              "United States     975\n",
              "United Kingdom    203\n",
              "Japan             155\n",
              "South Korea       147\n",
              "India              71\n",
              "Taiwan             68\n",
              "Canada             59\n",
              "France             46\n",
              "Spain              45\n",
              "Australia          44\n",
              "Name: cnt, dtype: int64"
            ]
          },
          "metadata": {},
          "execution_count": 173
        }
      ]
    },
    {
      "cell_type": "markdown",
      "source": [
        "* ***There are 975 TV shows of United States on netflix while followed by United Kingdom with 203 tv shows along with several other countries.***"
      ],
      "metadata": {
        "id": "C036Pp4gNHjQ"
      }
    },
    {
      "cell_type": "markdown",
      "source": [
        "###**Rating**"
      ],
      "metadata": {
        "id": "tzPuZ6RARsV2"
      }
    },
    {
      "cell_type": "code",
      "source": [
        "# Plotting a countplot.\n",
        "\n",
        "plt.figure(figsize=(13,4))\n",
        "sns.countplot(x = mov['rtng'], order = mov['rtng'].value_counts().index,palette = 'viridis')\n",
        "plt.xlabel('Rating')\n",
        "plt.title('Different ratings of movies on the platform',fontweight = 'bold')"
      ],
      "metadata": {
        "colab": {
          "base_uri": "https://localhost:8080/",
          "height": 0
        },
        "id": "czgXdQfQR2YG",
        "outputId": "6e2996bf-684c-47e9-888d-8c95462e48f0"
      },
      "execution_count": 174,
      "outputs": [
        {
          "output_type": "execute_result",
          "data": {
            "text/plain": [
              "Text(0.5, 1.0, 'Different ratings of movies on the platform')"
            ]
          },
          "metadata": {},
          "execution_count": 174
        },
        {
          "output_type": "display_data",
          "data": {
            "text/plain": [
              "<Figure size 1300x400 with 1 Axes>"
            ],
            "image/png": "[encoded data removed]"
          },
          "metadata": {}
        }
      ]
    },
    {
      "cell_type": "markdown",
      "source": [
        "* ***As we can observe by the above plot that majority of the movies on our platform is for TV - MA (Mature Audience) followed by TV - 14 (Content unsuitable for children under 14), R (Restricted to viewers over 17 years old) and several other categories.***"
      ],
      "metadata": {
        "id": "7D_j8ngJUFVH"
      }
    },
    {
      "cell_type": "code",
      "source": [
        "# Number of different entries.\n",
        "\n",
        "mov['rtng'].value_counts()"
      ],
      "metadata": {
        "colab": {
          "base_uri": "https://localhost:8080/"
        },
        "id": "BRDeER1ER9LV",
        "outputId": "3bebabc1-ca7c-4b9d-bd55-d7cd59a630f1"
      },
      "execution_count": 175,
      "outputs": [
        {
          "output_type": "execute_result",
          "data": {
            "text/plain": [
              "TV-MA       1845\n",
              "TV-14       1272\n",
              "R            663\n",
              "TV-PG        505\n",
              "PG-13        386\n",
              "PG           247\n",
              "TV-Y         117\n",
              "TV-G         111\n",
              "TV-Y7         95\n",
              "NR            79\n",
              "G             39\n",
              "TV-Y7-FV       5\n",
              "UR             5\n",
              "NC-17          3\n",
              "Name: rtng, dtype: int64"
            ]
          },
          "metadata": {},
          "execution_count": 175
        }
      ]
    },
    {
      "cell_type": "markdown",
      "source": [
        "* ***There are 1845 movies of TV - MA rating followed by 1272 movies of TV - 14 rating with several other rating categories.***"
      ],
      "metadata": {
        "id": "qPx1ULlJUq3G"
      }
    },
    {
      "cell_type": "code",
      "source": [
        "# Plotting a countplot.\n",
        "\n",
        "plt.figure(figsize=(13,4))\n",
        "sns.countplot(x = tv['rtng'], order = mov['rtng'].value_counts().index,palette = 'viridis')\n",
        "plt.xlabel('Rating')\n",
        "plt.title('Different ratings of TV Shows on the platform',fontweight = 'bold')"
      ],
      "metadata": {
        "colab": {
          "base_uri": "https://localhost:8080/",
          "height": 0
        },
        "outputId": "d6faacee-d8d8-42b5-8463-318296b4ed58",
        "id": "PwY4MJAySIQV"
      },
      "execution_count": 176,
      "outputs": [
        {
          "output_type": "execute_result",
          "data": {
            "text/plain": [
              "Text(0.5, 1.0, 'Different ratings of TV Shows on the platform')"
            ]
          },
          "metadata": {},
          "execution_count": 176
        },
        {
          "output_type": "display_data",
          "data": {
            "text/plain": [
              "<Figure size 1300x400 with 1 Axes>"
            ],
            "image/png": "[encoded data removed]"
          },
          "metadata": {}
        }
      ]
    },
    {
      "cell_type": "markdown",
      "source": [
        "* ***TV Shows are also rated similar as the movies on the platform.***"
      ],
      "metadata": {
        "id": "eMXcqJXaSIQW"
      }
    },
    {
      "cell_type": "code",
      "source": [
        "# Number of different entries.\n",
        "\n",
        "tv['rtng'].value_counts()"
      ],
      "metadata": {
        "colab": {
          "base_uri": "https://localhost:8080/"
        },
        "outputId": "d932d4f7-9d56-44ca-ce68-e61fa9242ad8",
        "id": "eYCJuEzcSIQW"
      },
      "execution_count": 177,
      "outputs": [
        {
          "output_type": "execute_result",
          "data": {
            "text/plain": [
              "TV-MA       1016\n",
              "TV-14        656\n",
              "TV-PG        299\n",
              "TV-Y7        175\n",
              "TV-Y         162\n",
              "TV-G          83\n",
              "NR             4\n",
              "R              2\n",
              "TV-Y7-FV       1\n",
              "Name: rtng, dtype: int64"
            ]
          },
          "metadata": {},
          "execution_count": 177
        }
      ]
    },
    {
      "cell_type": "markdown",
      "source": [
        "* ***There are 1016 TV Shows of TV - MA rating followed by 656 TV Shows of TV - 14 rating with several other rating categories.***"
      ],
      "metadata": {
        "id": "h-1SDtzGSqri"
      }
    },
    {
      "cell_type": "markdown",
      "source": [
        "###**Duration**"
      ],
      "metadata": {
        "id": "RB8FtzjYWLBs"
      }
    },
    {
      "cell_type": "code",
      "source": [
        "# Plotting a distribution plot.\n",
        "\n",
        "plt.figure(figsize=(13,5))\n",
        "sns.histplot(mov['dur'].str.extract('(\\d+)').astype(int), kde = True, linewidth=2) # It is extracting digits from the mov['dur'] and plotting it.\n",
        "plt.xlabel('Duration (minutes)')\n",
        "plt.title('Distribution of Movies duration (minutes)', fontweight = 'bold')"
      ],
      "metadata": {
        "colab": {
          "base_uri": "https://localhost:8080/",
          "height": 504
        },
        "id": "QpCuSmBkS6lz",
        "outputId": "9fad7b6a-a887-47a3-f28c-896d8299f379"
      },
      "execution_count": 178,
      "outputs": [
        {
          "output_type": "execute_result",
          "data": {
            "text/plain": [
              "Text(0.5, 1.0, 'Distribution of Movies duration (minutes)')"
            ]
          },
          "metadata": {},
          "execution_count": 178
        },
        {
          "output_type": "display_data",
          "data": {
            "text/plain": [
              "<Figure size 1300x500 with 1 Axes>"
            ],
            "image/png": "[encoded data removed]"
          },
          "metadata": {}
        }
      ]
    },
    {
      "cell_type": "markdown",
      "source": [
        "* ***As we can observe in above distplot that it is following a near normal distribution.***\n",
        "\n",
        "* ***It also means that majority of movies on the platform are of about 1.5 hr duration and can go upto 2.5 to 3 hr if max duration considered.***"
      ],
      "metadata": {
        "id": "vcuN8-jGYLlm"
      }
    },
    {
      "cell_type": "code",
      "source": [
        "# Plotting a countplot.\n",
        "\n",
        "plt.figure(figsize = (20,5))\n",
        "sns.countplot(x = tv['dur'], order = tv['dur'].value_counts().index)\n",
        "plt.xlabel('Duration (Seasons)')\n",
        "plt.title('Duration of TV shows (seasons)', fontweight = 'bold')"
      ],
      "metadata": {
        "colab": {
          "base_uri": "https://localhost:8080/",
          "height": 401
        },
        "id": "_Q0JYVw5mM-F",
        "outputId": "51c90d9c-ffc3-4f0a-e9c9-d12347939f7f"
      },
      "execution_count": 179,
      "outputs": [
        {
          "output_type": "execute_result",
          "data": {
            "text/plain": [
              "Text(0.5, 1.0, 'Duration of TV shows (seasons)')"
            ]
          },
          "metadata": {},
          "execution_count": 179
        },
        {
          "output_type": "display_data",
          "data": {
            "text/plain": [
              "<Figure size 2000x500 with 1 Axes>"
            ],
            "image/png": "[encoded data removed]"
          },
          "metadata": {}
        }
      ]
    },
    {
      "cell_type": "markdown",
      "source": [
        "* ***Majority of TV Shows consist of 1 season on the platform while rest consist of 2 to 8 seasons.***"
      ],
      "metadata": {
        "id": "QqMg2ybtbR11"
      }
    },
    {
      "cell_type": "code",
      "source": [
        "# Printing number of seasons.\n",
        "\n",
        "tv['dur'].value_counts()"
      ],
      "metadata": {
        "colab": {
          "base_uri": "https://localhost:8080/"
        },
        "id": "RDnNe9S0nTBL",
        "outputId": "0fc4de9d-8a30-4b7d-9239-3a823349f70a"
      },
      "execution_count": 180,
      "outputs": [
        {
          "output_type": "execute_result",
          "data": {
            "text/plain": [
              "1 Season      1606\n",
              "2 Seasons      378\n",
              "3 Seasons      183\n",
              "4 Seasons       86\n",
              "5 Seasons       57\n",
              "6 Seasons       30\n",
              "7 Seasons       19\n",
              "8 Seasons       18\n",
              "9 Seasons        8\n",
              "10 Seasons       5\n",
              "11 Seasons       2\n",
              "12 Seasons       2\n",
              "15 Seasons       2\n",
              "13 Seasons       1\n",
              "16 Seasons       1\n",
              "Name: dur, dtype: int64"
            ]
          },
          "metadata": {},
          "execution_count": 180
        }
      ]
    },
    {
      "cell_type": "markdown",
      "source": [
        "* ***There are 1606 TV shows of 1 season and 378 TV shows of 2 seasons following few other TV shows ranging upto 3 to 10 seasons.***"
      ],
      "metadata": {
        "id": "vc3c1312kDwq"
      }
    },
    {
      "cell_type": "code",
      "source": [
        "df.head()"
      ],
      "metadata": {
        "colab": {
          "base_uri": "https://localhost:8080/",
          "height": 337
        },
        "id": "BAYahY-jl2XT",
        "outputId": "2065aa30-0b3d-4c31-8ba3-f222282fec9d"
      },
      "execution_count": 181,
      "outputs": [
        {
          "output_type": "execute_result",
          "data": {
            "text/plain": [
              "   si      typ    tit                                                cst  \\\n",
              "0  s1  TV Show     3%  João Miguel, Bianca Comparato, Michel Gomes, R...   \n",
              "1  s2    Movie   7:19  Demián Bichir, Héctor Bonilla, Oscar Serrano, ...   \n",
              "2  s3    Movie  23:59  Tedd Chan, Stella Chung, Henley Hii, Lawrence ...   \n",
              "3  s4    Movie      9  Elijah Wood, John C. Reilly, Jennifer Connelly...   \n",
              "4  s5    Movie     21  Jim Sturgess, Kevin Spacey, Kate Bosworth, Aar...   \n",
              "\n",
              "             cnt                 da    ry   rtng        dur  \\\n",
              "0         Brazil    August 14, 2020  2020  TV-MA  4 Seasons   \n",
              "1         Mexico  December 23, 2016  2016  TV-MA     93 min   \n",
              "2      Singapore  December 20, 2018  2011      R     78 min   \n",
              "3  United States  November 16, 2017  2009  PG-13     80 min   \n",
              "4  United States    January 1, 2020  2008  PG-13    123 min   \n",
              "\n",
              "                                                  li  \\\n",
              "0  International TV Shows, TV Dramas, TV Sci-Fi &...   \n",
              "1                       Dramas, International Movies   \n",
              "2                Horror Movies, International Movies   \n",
              "3  Action & Adventure, Independent Movies, Sci-Fi...   \n",
              "4                                             Dramas   \n",
              "\n",
              "                                                 des  \n",
              "0  In a future where the elite inhabit an island ...  \n",
              "1  After a devastating earthquake hits Mexico Cit...  \n",
              "2  When an army recruit is found dead, his fellow...  \n",
              "3  In a postapocalyptic world, rag-doll robots hi...  \n",
              "4  A brilliant group of students become card-coun...  "
            ],
            "text/html": [
              "\n",
              "\n",
              "  <div id=\"df-aa80edee-dac4-4afc-ba18-144d9cac5bfd\">\n",
              "    <div class=\"colab-df-container\">\n",
              "      <div>\n",
              "<style scoped>\n",
              "    .dataframe tbody tr th:only-of-type {\n",
              "        vertical-align: middle;\n",
              "    }\n",
              "\n",
              "    .dataframe tbody tr th {\n",
              "        vertical-align: top;\n",
              "    }\n",
              "\n",
              "    .dataframe thead th {\n",
              "        text-align: right;\n",
              "    }\n",
              "</style>\n",
              "<table border=\"1\" class=\"dataframe\">\n",
              "  <thead>\n",
              "    <tr style=\"text-align: right;\">\n",
              "      <th></th>\n",
              "      <th>si</th>\n",
              "      <th>typ</th>\n",
              "      <th>tit</th>\n",
              "      <th>cst</th>\n",
              "      <th>cnt</th>\n",
              "      <th>da</th>\n",
              "      <th>ry</th>\n",
              "      <th>rtng</th>\n",
              "      <th>dur</th>\n",
              "      <th>li</th>\n",
              "      <th>des</th>\n",
              "    </tr>\n",
              "  </thead>\n",
              "  <tbody>\n",
              "    <tr>\n",
              "      <th>0</th>\n",
              "      <td>s1</td>\n",
              "      <td>TV Show</td>\n",
              "      <td>3%</td>\n",
              "      <td>João Miguel, Bianca Comparato, Michel Gomes, R...</td>\n",
              "      <td>Brazil</td>\n",
              "      <td>August 14, 2020</td>\n",
              "      <td>2020</td>\n",
              "      <td>TV-MA</td>\n",
              "      <td>4 Seasons</td>\n",
              "      <td>International TV Shows, TV Dramas, TV Sci-Fi &amp;...</td>\n",
              "      <td>In a future where the elite inhabit an island ...</td>\n",
              "    </tr>\n",
              "    <tr>\n",
              "      <th>1</th>\n",
              "      <td>s2</td>\n",
              "      <td>Movie</td>\n",
              "      <td>7:19</td>\n",
              "      <td>Demián Bichir, Héctor Bonilla, Oscar Serrano, ...</td>\n",
              "      <td>Mexico</td>\n",
              "      <td>December 23, 2016</td>\n",
              "      <td>2016</td>\n",
              "      <td>TV-MA</td>\n",
              "      <td>93 min</td>\n",
              "      <td>Dramas, International Movies</td>\n",
              "      <td>After a devastating earthquake hits Mexico Cit...</td>\n",
              "    </tr>\n",
              "    <tr>\n",
              "      <th>2</th>\n",
              "      <td>s3</td>\n",
              "      <td>Movie</td>\n",
              "      <td>23:59</td>\n",
              "      <td>Tedd Chan, Stella Chung, Henley Hii, Lawrence ...</td>\n",
              "      <td>Singapore</td>\n",
              "      <td>December 20, 2018</td>\n",
              "      <td>2011</td>\n",
              "      <td>R</td>\n",
              "      <td>78 min</td>\n",
              "      <td>Horror Movies, International Movies</td>\n",
              "      <td>When an army recruit is found dead, his fellow...</td>\n",
              "    </tr>\n",
              "    <tr>\n",
              "      <th>3</th>\n",
              "      <td>s4</td>\n",
              "      <td>Movie</td>\n",
              "      <td>9</td>\n",
              "      <td>Elijah Wood, John C. Reilly, Jennifer Connelly...</td>\n",
              "      <td>United States</td>\n",
              "      <td>November 16, 2017</td>\n",
              "      <td>2009</td>\n",
              "      <td>PG-13</td>\n",
              "      <td>80 min</td>\n",
              "      <td>Action &amp; Adventure, Independent Movies, Sci-Fi...</td>\n",
              "      <td>In a postapocalyptic world, rag-doll robots hi...</td>\n",
              "    </tr>\n",
              "    <tr>\n",
              "      <th>4</th>\n",
              "      <td>s5</td>\n",
              "      <td>Movie</td>\n",
              "      <td>21</td>\n",
              "      <td>Jim Sturgess, Kevin Spacey, Kate Bosworth, Aar...</td>\n",
              "      <td>United States</td>\n",
              "      <td>January 1, 2020</td>\n",
              "      <td>2008</td>\n",
              "      <td>PG-13</td>\n",
              "      <td>123 min</td>\n",
              "      <td>Dramas</td>\n",
              "      <td>A brilliant group of students become card-coun...</td>\n",
              "    </tr>\n",
              "  </tbody>\n",
              "</table>\n",
              "</div>\n",
              "      <button class=\"colab-df-convert\" onclick=\"convertToInteractive('df-aa80edee-dac4-4afc-ba18-144d9cac5bfd')\"\n",
              "              title=\"Convert this dataframe to an interactive table.\"\n",
              "              style=\"display:none;\">\n",
              "\n",
              "  <svg xmlns=\"http://www.w3.org/2000/svg\" height=\"24px\"viewBox=\"0 0 24 24\"\n",
              "       width=\"24px\">\n",
              "    <path d=\"M0 0h24v24H0V0z\" fill=\"none\"/>\n",
              "    <path d=\"M18.56 5.44l.94 2.06.94-2.06 2.06-.94-2.06-.94-.94-2.06-.94 2.06-2.06.94zm-11 1L8.5 8.5l.94-2.06 2.06-.94-2.06-.94L8.5 2.5l-.94 2.06-2.06.94zm10 10l.94 2.06.94-2.06 2.06-.94-2.06-.94-.94-2.06-.94 2.06-2.06.94z\"/><path d=\"M17.41 7.96l-1.37-1.37c-.4-.4-.92-.59-1.43-.59-.52 0-1.04.2-1.43.59L10.3 9.45l-7.72 7.72c-.78.78-.78 2.05 0 2.83L4 21.41c.39.39.9.59 1.41.59.51 0 1.02-.2 1.41-.59l7.78-7.78 2.81-2.81c.8-.78.8-2.07 0-2.86zM5.41 20L4 18.59l7.72-7.72 1.47 1.35L5.41 20z\"/>\n",
              "  </svg>\n",
              "      </button>\n",
              "\n",
              "\n",
              "\n",
              "    <div id=\"df-5cfb775e-3a9b-4c43-a4c4-8eb01a8e51af\">\n",
              "      <button class=\"colab-df-quickchart\" onclick=\"quickchart('df-5cfb775e-3a9b-4c43-a4c4-8eb01a8e51af')\"\n",
              "              title=\"Suggest charts.\"\n",
              "              style=\"display:none;\">\n",
              "\n",
              "<svg xmlns=\"http://www.w3.org/2000/svg\" height=\"24px\"viewBox=\"0 0 24 24\"\n",
              "     width=\"24px\">\n",
              "    <g>\n",
              "        <path d=\"M19 3H5c-1.1 0-2 .9-2 2v14c0 1.1.9 2 2 2h14c1.1 0 2-.9 2-2V5c0-1.1-.9-2-2-2zM9 17H7v-7h2v7zm4 0h-2V7h2v10zm4 0h-2v-4h2v4z\"/>\n",
              "    </g>\n",
              "</svg>\n",
              "      </button>\n",
              "    </div>\n",
              "\n",
              "<style>\n",
              "  .colab-df-quickchart {\n",
              "    background-color: #E8F0FE;\n",
              "    border: none;\n",
              "    border-radius: 50%;\n",
              "    cursor: pointer;\n",
              "    display: none;\n",
              "    fill: #1967D2;\n",
              "    height: 32px;\n",
              "    padding: 0 0 0 0;\n",
              "    width: 32px;\n",
              "  }\n",
              "\n",
              "  .colab-df-quickchart:hover {\n",
              "    background-color: #E2EBFA;\n",
              "    box-shadow: 0px 1px 2px rgba(60, 64, 67, 0.3), 0px 1px 3px 1px rgba(60, 64, 67, 0.15);\n",
              "    fill: #174EA6;\n",
              "  }\n",
              "\n",
              "  [theme=dark] .colab-df-quickchart {\n",
              "    background-color: #3B4455;\n",
              "    fill: #D2E3FC;\n",
              "  }\n",
              "\n",
              "  [theme=dark] .colab-df-quickchart:hover {\n",
              "    background-color: #434B5C;\n",
              "    box-shadow: 0px 1px 3px 1px rgba(0, 0, 0, 0.15);\n",
              "    filter: drop-shadow(0px 1px 2px rgba(0, 0, 0, 0.3));\n",
              "    fill: #FFFFFF;\n",
              "  }\n",
              "</style>\n",
              "\n",
              "    <script>\n",
              "      async function quickchart(key) {\n",
              "        const containerElement = document.querySelector('#' + key);\n",
              "        const charts = await google.colab.kernel.invokeFunction(\n",
              "            'suggestCharts', [key], {});\n",
              "      }\n",
              "    </script>\n",
              "\n",
              "      <script>\n",
              "\n",
              "function displayQuickchartButton(domScope) {\n",
              "  let quickchartButtonEl =\n",
              "    domScope.querySelector('#df-5cfb775e-3a9b-4c43-a4c4-8eb01a8e51af button.colab-df-quickchart');\n",
              "  quickchartButtonEl.style.display =\n",
              "    google.colab.kernel.accessAllowed ? 'block' : 'none';\n",
              "}\n",
              "\n",
              "        displayQuickchartButton(document);\n",
              "      </script>\n",
              "      <style>\n",
              "    .colab-df-container {\n",
              "      display:flex;\n",
              "      flex-wrap:wrap;\n",
              "      gap: 12px;\n",
              "    }\n",
              "\n",
              "    .colab-df-convert {\n",
              "      background-color: #E8F0FE;\n",
              "      border: none;\n",
              "      border-radius: 50%;\n",
              "      cursor: pointer;\n",
              "      display: none;\n",
              "      fill: #1967D2;\n",
              "      height: 32px;\n",
              "      padding: 0 0 0 0;\n",
              "      width: 32px;\n",
              "    }\n",
              "\n",
              "    .colab-df-convert:hover {\n",
              "      background-color: #E2EBFA;\n",
              "      box-shadow: 0px 1px 2px rgba(60, 64, 67, 0.3), 0px 1px 3px 1px rgba(60, 64, 67, 0.15);\n",
              "      fill: #174EA6;\n",
              "    }\n",
              "\n",
              "    [theme=dark] .colab-df-convert {\n",
              "      background-color: #3B4455;\n",
              "      fill: #D2E3FC;\n",
              "    }\n",
              "\n",
              "    [theme=dark] .colab-df-convert:hover {\n",
              "      background-color: #434B5C;\n",
              "      box-shadow: 0px 1px 3px 1px rgba(0, 0, 0, 0.15);\n",
              "      filter: drop-shadow(0px 1px 2px rgba(0, 0, 0, 0.3));\n",
              "      fill: #FFFFFF;\n",
              "    }\n",
              "  </style>\n",
              "\n",
              "      <script>\n",
              "        const buttonEl =\n",
              "          document.querySelector('#df-aa80edee-dac4-4afc-ba18-144d9cac5bfd button.colab-df-convert');\n",
              "        buttonEl.style.display =\n",
              "          google.colab.kernel.accessAllowed ? 'block' : 'none';\n",
              "\n",
              "        async function convertToInteractive(key) {\n",
              "          const element = document.querySelector('#df-aa80edee-dac4-4afc-ba18-144d9cac5bfd');\n",
              "          const dataTable =\n",
              "            await google.colab.kernel.invokeFunction('convertToInteractive',\n",
              "                                                     [key], {});\n",
              "          if (!dataTable) return;\n",
              "\n",
              "          const docLinkHtml = 'Like what you see? Visit the ' +\n",
              "            '<a target=\"_blank\" href=https://colab.research.google.com/notebooks/data_table.ipynb>data table notebook</a>'\n",
              "            + ' to learn more about interactive tables.';\n",
              "          element.innerHTML = '';\n",
              "          dataTable['output_type'] = 'display_data';\n",
              "          await google.colab.output.renderOutput(dataTable, element);\n",
              "          const docLink = document.createElement('div');\n",
              "          docLink.innerHTML = docLinkHtml;\n",
              "          element.appendChild(docLink);\n",
              "        }\n",
              "      </script>\n",
              "    </div>\n",
              "  </div>\n"
            ]
          },
          "metadata": {},
          "execution_count": 181
        }
      ]
    },
    {
      "cell_type": "markdown",
      "source": [
        "###**Release year**"
      ],
      "metadata": {
        "id": "lEMirSjSmGur"
      }
    },
    {
      "cell_type": "code",
      "source": [
        "plt.figure(figsize=(10,5))\n",
        "mov['ry'].value_counts().head(10).plot(kind = 'bar')\n",
        "plt.xlabel('Release year')\n",
        "plt.title('Top 10 years in which highest movies were released', fontweight = 'bold')"
      ],
      "metadata": {
        "colab": {
          "base_uri": "https://localhost:8080/",
          "height": 525
        },
        "id": "a6i3oZoxl3Kx",
        "outputId": "db76ec25-b8d9-402b-c262-e866e2875206"
      },
      "execution_count": 182,
      "outputs": [
        {
          "output_type": "execute_result",
          "data": {
            "text/plain": [
              "Text(0.5, 1.0, 'Top 10 years in which highest movies were released')"
            ]
          },
          "metadata": {},
          "execution_count": 182
        },
        {
          "output_type": "display_data",
          "data": {
            "text/plain": [
              "<Figure size 1000x500 with 1 Axes>"
            ],
            "image/png": "[encoded data removed]"
          },
          "metadata": {}
        }
      ]
    },
    {
      "cell_type": "code",
      "source": [],
      "metadata": {
        "id": "BkBCs1AemWsv"
      },
      "execution_count": 182,
      "outputs": []
    }
  ]
}